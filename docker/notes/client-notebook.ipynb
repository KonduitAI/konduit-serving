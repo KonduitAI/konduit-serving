{
 "cells": [
  {
   "cell_type": "markdown",
   "metadata": {},
   "source": [
    "#### Sample client usage\n",
    "\n",
    "This shows an example of how to setup a client to get output from the server.\n",
    "The client is pre configured to connect to the hostname pre set in docker-compose.\n",
    "Docker compose sets host names of containers to be the same host name as the service name (hence pipeline)\n"
   ]
  },
  {
   "cell_type": "code",
   "execution_count": 2,
   "metadata": {},
   "outputs": [
    {
     "name": "stdout",
     "output_type": "stream",
     "text": [
      "{'label': 'African_elephant', 'proba': '0.8009383'}\n"
     ]
    }
   ],
   "source": [
    "from konduitserving.client import Client\n",
    "import numpy as np\n",
    "\n",
    "input_names = ['default']\n",
    "output_names = ['default']\n",
    "port = 65535\n",
    "\n",
    "client = Client(timeout=300,\n",
    "                    input_type='JSON',\n",
    "                    endpoint_output_type='RAW',\n",
    "                    return_output_type='JSON',\n",
    "                    host='http://pipeline', port=port)   \n",
    "\n",
    "data_input = {'img_path': '/usr/share/input-data/download.jpg'}\n",
    "\n",
    "result = client.predict(data_input)\n",
    "print(str(result))"
   ]
  },
  {
   "cell_type": "code",
   "execution_count": null,
   "metadata": {},
   "outputs": [],
   "source": []
  },
  {
   "cell_type": "code",
   "execution_count": null,
   "metadata": {},
   "outputs": [],
   "source": []
  }
 ],
 "metadata": {
  "kernelspec": {
   "display_name": "Python 3",
   "language": "python",
   "name": "python3"
  },
  "language_info": {
   "codemirror_mode": {
    "name": "ipython",
    "version": 3
   },
   "file_extension": ".py",
   "mimetype": "text/x-python",
   "name": "python",
   "nbconvert_exporter": "python",
   "pygments_lexer": "ipython3",
   "version": "3.7.3"
  },
  "pycharm": {
   "stem_cell": {
    "cell_type": "raw",
    "metadata": {
     "collapsed": false
    },
    "source": []
   }
  }
 },
 "nbformat": 4,
 "nbformat_minor": 2
}
